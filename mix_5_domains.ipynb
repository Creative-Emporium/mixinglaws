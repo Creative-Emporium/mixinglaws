{
 "cells": [
  {
   "cell_type": "code",
   "execution_count": 1,
   "id": "4c4f98f4",
   "metadata": {},
   "outputs": [],
   "source": [
    "# load data\n",
    "import random\n",
    "from law import ScalingLaw\n",
    "import matplotlib.pyplot as plt\n",
    "from collections import defaultdict\n",
    "import json\n",
    "import numpy as np\n",
    "import torch\n",
    "import torch.nn as nn\n",
    "import torch.nn.functional as F\n",
    "import warnings\n",
    "from tqdm import tqdm\n",
    "\n",
    "warnings.filterwarnings('ignore')\n",
    "\n",
    "from functools import partial\n",
    "\n",
    "\n",
    "DOMAINS_2_SUBDOMAINS = {\n",
    "    \"academic\": [\"ArXiv\", \"PubMed_Abstracts\", \"PhilPapers\", \"NIH_ExPorter\", \"FreeLaw\", \"USPTO_Backgrounds\", \"PubMed_Central\"],\n",
    "    \"prose\": [\"PG19\", \"Books3\", \"BookCorpus2\"],\n",
    "    \"dialogue\": [\"Ubuntu_IRC\", \"OpenSubtitles\", \"EuroParl\", \"Enron_Emails\", \"HackerNews\", \"YoutubeSubtitles\"],\n",
    "    \"symbolic\": [\"DM_Mathematics\", \"Github\"],\n",
    "    \"internet\": [\"Pile-CC\", \"OpenWebText2\", \"StackExchange\", \"Wikipedia_en\"],\n",
    "}\n",
    "SUBDOMAINS_2_DOMAINS = {\n",
    "    subdomain: domain\n",
    "    for domain, subdomains in DOMAINS_2_SUBDOMAINS.items() for subdomain in subdomains\n",
    "}\n",
    "with open(\"valid_weight.json\", \"r\") as f:\n",
    "    valid_weight = json.load(f)\n",
    "for domain, subdomains in DOMAINS_2_SUBDOMAINS.items():\n",
    "    valid_weight[domain] = sum(valid_weight[subdomain] for subdomain in subdomains)\n",
    "\n",
    "\n",
    "def load_loss(path, filter=True):\n",
    "    losses = defaultdict(lambda: defaultdict(dict))   # domain -> ratio\n",
    "    with open(path, \"r\") as f:\n",
    "        lines = set(f.readlines())\n",
    "    for line in lines:   \n",
    "        model, data, loss = line.split()\n",
    "        model = model.strip('/')\n",
    "        step = int(model.split('/')[-1])\n",
    "        if filter and int(model.split('/')[-2].split('-')[0].split('_')[-1]) > 900:\n",
    "            continue\n",
    "        ratio = \"-\".join(model.split('/')[-2].split('-')[1:])\n",
    "        subdomain = data.split('/')[-1].split('.')[-2]\n",
    "        losses[ratio][subdomain][step] = float(loss)\n",
    "    # merge\n",
    "    for domain, subdomains in DOMAINS_2_SUBDOMAINS.items():\n",
    "        domain_norm = sum(valid_weight[subdomain] for subdomain in subdomains)\n",
    "        for ratio in losses:\n",
    "            for step in losses[ratio][subdomains[0]]:\n",
    "                try:\n",
    "                    losses[ratio][domain][step] = sum(losses[ratio][subdomain][step] * valid_weight[subdomain] / domain_norm for subdomain in subdomains)\n",
    "                except:\n",
    "                    continue\n",
    "    return losses\n",
    "\n",
    "OBSERVED_LOSSES = {\n",
    "    \"70M\": load_loss(f\"data/5Mix/70M.txt\"),\n",
    "    \"160M\": load_loss(f\"data/5Mix/160M.txt\"),\n",
    "    \"305M\": load_loss(f\"data/5Mix/305M.txt\"),\n",
    "    \"410M\": load_loss(f\"data/5Mix/410M.txt\")\n",
    "}   # sz, ratio, domain, step\n",
    "\n",
    "seed=4096\n",
    "random.seed(seed)\n",
    "np.random.seed(seed)\n",
    "torch.manual_seed(seed)\n",
    "torch.cuda.manual_seed_all(seed)\n",
    "\n",
    "MODEL_SZIE = \"70M\"\n",
    "STEP = 30000\n",
    "with open(\"data/5Mix/proportions.txt\", \"r\") as f:\n",
    "    ratios = list(OBSERVED_LOSSES[MODEL_SZIE]) # [line.strip() for line in f]\n",
    "np.random.shuffle(ratios)\n",
    "eval_ratios = ratios[20:]\n",
    "train_ratios = ratios[:20]\n",
    "\n",
    "\n",
    "x = np.array([list(map(float, ratio.split('-'))) for ratio in train_ratios])\n",
    "y = np.array([\n",
    "    sum(OBSERVED_LOSSES[MODEL_SZIE][ratio][domain][STEP] * valid_weight[domain] for domain in DOMAINS_2_SUBDOMAINS) \n",
    "    for ratio in train_ratios\n",
    "])"
   ]
  },
  {
   "cell_type": "code",
   "execution_count": 5,
   "id": "baa965ed",
   "metadata": {},
   "outputs": [
    {
     "name": "stderr",
     "output_type": "stream",
     "text": [
      "100%|█████████████████████████████████████████████████████████████████████████████████████████████████████████| 6000/6000 [00:31<00:00, 187.90it/s]\n"
     ]
    },
    {
     "name": "stdout",
     "output_type": "stream",
     "text": [
      "0.0005682876217179\n",
      "tensor([  0.9750,  -2.1391, -10.0864,   2.7140,   2.7106,   2.6083,   1.5866])\n"
     ]
    },
    {
     "name": "stderr",
     "output_type": "stream",
     "text": [
      "100%|█████████████████████████████████████████████████████████████████████████████████████████████████████████| 6000/6000 [00:31<00:00, 191.58it/s]\n"
     ]
    },
    {
     "name": "stdout",
     "output_type": "stream",
     "text": [
      "0.00012334295024629682\n",
      "tensor([ 1.2624, -2.1656,  1.3930, -4.6811,  0.7855,  1.8719,  0.5734])\n"
     ]
    },
    {
     "name": "stderr",
     "output_type": "stream",
     "text": [
      "100%|█████████████████████████████████████████████████████████████████████████████████████████████████████████| 6000/6000 [00:27<00:00, 214.92it/s]\n"
     ]
    },
    {
     "name": "stdout",
     "output_type": "stream",
     "text": [
      "0.0005513424403034151\n",
      "tensor([  1.1375,  -7.1017,   6.7135,   6.2643, -31.8621,   6.6423,   6.2053])\n"
     ]
    },
    {
     "name": "stderr",
     "output_type": "stream",
     "text": [
      "100%|█████████████████████████████████████████████████████████████████████████████████████████████████████████| 6000/6000 [00:35<00:00, 166.99it/s]\n"
     ]
    },
    {
     "name": "stdout",
     "output_type": "stream",
     "text": [
      "0.0001428198884241283\n",
      "tensor([  0.4750,  -3.6546,   3.3289,   3.6705,   3.1127, -16.4217,   3.1591])\n"
     ]
    },
    {
     "name": "stderr",
     "output_type": "stream",
     "text": [
      "100%|█████████████████████████████████████████████████████████████████████████████████████████████████████████| 6000/6000 [00:31<00:00, 192.01it/s]\n"
     ]
    },
    {
     "name": "stdout",
     "output_type": "stream",
     "text": [
      "8.165960753103718e-05\n",
      "tensor([ 1.2402, -1.9510,  1.1897,  0.8697, -0.5184,  1.7122, -3.0870])\n"
     ]
    }
   ],
   "source": [
    "# fit with mixture law\n",
    "class ScalingLawWrap:\n",
    "    def __init__(self, func):\n",
    "        self.func = func\n",
    "    \n",
    "    def __call__(self, x, param):\n",
    "        if not isinstance(x, torch.Tensor):\n",
    "            x = torch.tensor(x, dtype=torch.float)\n",
    "        if not isinstance(param, torch.Tensor):\n",
    "            param = torch.tensor(param, dtype=torch.float)\n",
    "        return self.func(x, param)\n",
    "\n",
    "def mixture_law_(x, param):\n",
    "    log_c, log_k, t = param[0], param[1], param[2:]\n",
    "    return torch.exp(log_c) + torch.exp(log_k + torch.matmul(x, t))\n",
    "\n",
    "mixture_law = ScalingLawWrap(mixture_law_)\n",
    "\n",
    "def param_genertor(idx):\n",
    "    for log_c in np.linspace(-2, 1.5, 10):\n",
    "        for logk in np.linspace(-10, 1, 20):\n",
    "            for _ in range(30):\n",
    "                ts = [-np.random.rand() if i == idx else np.random.rand() * 0.1 for i in range(5)]\n",
    "                yield [log_c, logk] + ts\n",
    "\n",
    "# linear by domains\n",
    "linear_domain_params = {}\n",
    "for domain in DOMAINS_2_SUBDOMAINS:\n",
    "    x = np.array([list(map(float, ratio.split('-'))) for ratio in ratios])\n",
    "    y = np.array([\n",
    "        OBSERVED_LOSSES[MODEL_SZIE][ratio][domain][STEP]\n",
    "        for ratio in ratios\n",
    "    ])\n",
    "    law = ScalingLaw(mixture_law)\n",
    "    linear_domain_params[domain] = law.fit(x, y, param_genertor(-1), max_step=50, eps=0, valid_split=0, delta=0.05)\n"
   ]
  },
  {
   "cell_type": "code",
   "execution_count": 3,
   "id": "5e990530",
   "metadata": {},
   "outputs": [
    {
     "name": "stderr",
     "output_type": "stream",
     "text": [
      "100%|██████████████████████████████████████████████████████████████████████████████████████████████████████████████| 10/10 [00:45<00:00,  4.54s/it]\n",
      "100%|██████████████████████████████████████████████████████████████████████████████████████████████████████████████| 10/10 [00:46<00:00,  4.63s/it]\n",
      "100%|██████████████████████████████████████████████████████████████████████████████████████████████████████████████| 10/10 [00:44<00:00,  4.41s/it]\n",
      "100%|██████████████████████████████████████████████████████████████████████████████████████████████████████████████| 10/10 [00:44<00:00,  4.41s/it]\n",
      "100%|██████████████████████████████████████████████████████████████████████████████████████████████████████████████| 10/10 [00:44<00:00,  4.47s/it]\n",
      "100%|██████████████████████████████████████████████████████████████████████████████████████████████████████████████| 10/10 [00:45<00:00,  4.56s/it]\n",
      "100%|██████████████████████████████████████████████████████████████████████████████████████████████████████████████| 10/10 [00:47<00:00,  4.73s/it]\n"
     ]
    }
   ],
   "source": [
    "# fit with mlp\n",
    "from sklearn.ensemble import AdaBoostRegressor\n",
    "from sklearn.base import BaseEstimator, RegressorMixin\n",
    "\n",
    "class MixtureMLP(nn.Module):\n",
    "    def __init__(self, dim=10, num_mixture=5, activation=\"exp\", bias=None) -> None:\n",
    "        super().__init__()\n",
    "        self.in_linear = nn.Linear(num_mixture, dim)\n",
    "        # for i in range(self.in_linear.weight.data.shape[0]):\n",
    "        #     self.in_linear.weight.data[i, i%num_mixture] = -10 * np.abs(self.in_linear.weight.data[i, i%num_mixture]) \n",
    "        self.out_linear = nn.Linear(dim, 1)\n",
    "        self.act = activation\n",
    "        if bias is not None:\n",
    "            self.out_linear.bias = nn.Parameter(torch.tensor([bias], dtype=torch.float))\n",
    "        # self.dropout = nn.Dropout(0.5)\n",
    "    \n",
    "    def forward(self, x):\n",
    "        x = torch.tensor(x, dtype=torch.float)\n",
    "        h = self.in_linear(x)\n",
    "        if self.act == \"exp\":\n",
    "            h = torch.exp(h)\n",
    "        elif self.act == \"relu\":\n",
    "            h = torch.nn.functional.relu(h)\n",
    "        elif self.act == \"gelu\":\n",
    "            h = torch.nn.functional.gelu(h, approximate=\"tanh\")\n",
    "        elif self.act == \"silu\":\n",
    "            h = torch.nn.functional.silu(h)\n",
    "        elif self.act == \"tanh\":\n",
    "            h = torch.nn.functional.tanh(h)\n",
    "        elif self.act == \"sigmoid\":\n",
    "            h = torch.nn.functional.sigmoid(h)\n",
    "        elif self.act == \"softplus\":\n",
    "            h = torch.nn.functional.softplus(h)\n",
    "        # return self.out_linear(torch.nn.functional.gelu(self.in_linear(x)))\n",
    "        w = F.softmax(self.out_linear.weight, dim=-1)\n",
    "        # import ipdb;ipdb.set_trace()\n",
    "        return torch.matmul(h, w.T) + self.out_linear.bias\n",
    "\n",
    "\n",
    "class MLPEstimator(BaseEstimator, RegressorMixin):\n",
    "    def __init__(self, dim, num_mixture, activation):\n",
    "        # Initialize parameters\n",
    "        self.dim, self.num_mixture, self.activation = dim, num_mixture, activation\n",
    "        self.mlp = MixtureMLP(dim, num_mixture, activation)\n",
    "        self.use_cuda = torch.cuda.is_available()\n",
    "\n",
    "    def fit(self, X, y):\n",
    "        best_valid_loss, valid_split = 1e10, int(X.shape[0] / 5)\n",
    "        X, y = torch.tensor(X, dtype=torch.float), torch.tensor(y, dtype=torch.float)\n",
    "        optimizer = torch.optim.AdamW(self.mlp.parameters(), lr=0.1, weight_decay=1e-3)\n",
    "        for _ in range(5000):\n",
    "            self.mlp.train()\n",
    "            # loss = optimizer.step(closure)\n",
    "            loss = torch.nn.functional.huber_loss(self.mlp(torch.tensor(X[:-valid_split]).float()).squeeze(), torch.tensor(y[:-valid_split]).float(), delta=0.05)\n",
    "            optimizer.zero_grad()\n",
    "            loss.backward()\n",
    "            optimizer.step()\n",
    "            with torch.no_grad():\n",
    "                self.mlp.eval()\n",
    "                valid_loss = torch.nn.functional.l1_loss(self.mlp(torch.tensor(X).float()).squeeze(), torch.tensor(y).float())\n",
    "                # valid_loss = torch.nn.functional.mse_loss(mlp(torch.tensor(x[-5:]).float()).squeeze(), torch.tensor(y[-5:]).float())\n",
    "            if valid_loss < best_valid_loss:\n",
    "                best_valid_loss = valid_loss\n",
    "                best_param = self.mlp.state_dict()\n",
    "        self.mlp.load_state_dict(best_param)\n",
    "\n",
    "    @torch.no_grad()\n",
    "    def predict(self, X):\n",
    "        if self.use_cuda:\n",
    "            self.mlp.eval()\n",
    "            self.mlp = self.mlp.cuda()\n",
    "            x = torch.tensor(X, dtype=torch.float, device='cuda')\n",
    "            result = self.mlp(x).squeeze().cpu().numpy()\n",
    "            self.mlp = self.mlp.cpu()\n",
    "        else:\n",
    "            x = torch.tensor(X, dtype=torch.float)\n",
    "            result = self.mlp(x).squeeze().numpy()\n",
    "        return result\n",
    "\n",
    "# mlp for all\n",
    "mlp_boost_params, mlp_params = {}, {}\n",
    "x = np.array([list(map(float, ratio.split('-'))) for ratio in ratios])\n",
    "y = np.array([\n",
    "    sum(OBSERVED_LOSSES[MODEL_SZIE][ratio][domain][STEP] * valid_weight[domain] for domain in DOMAINS_2_SUBDOMAINS) \n",
    "    for ratio in ratios\n",
    "])\n",
    "# for dim in [1, 2, 3, 5, 10, 20, 30]:\n",
    "#     best_valid_loss, best_param = 1e10, None\n",
    "#     for i in range(5):\n",
    "#         regr = AdaBoostRegressor(MLPEstimator(dim, 5, \"exp\"), random_state=i, n_estimators=10)\n",
    "#         regr.fit(x, y)\n",
    "#         prediction = regr.predict(x)\n",
    "#         err = np.mean(np.abs(prediction - y))\n",
    "#         if err < best_valid_loss:\n",
    "#             best_valid_loss = err\n",
    "#             best_param = regr\n",
    "#     mlp_boost_params[dim] = best_param\n",
    "    \n",
    "#     best_valid_loss, best_param = 1e10, None \n",
    "#     for retry in tqdm(range(10)):\n",
    "#         mlp = MixtureMLP(dim=dim)\n",
    "#         optimizer = torch.optim.AdamW(mlp.parameters(), lr=1e-1, weight_decay=1e-3)\n",
    "#         for _ in range(10000):\n",
    "#             mlp.train()\n",
    "#             loss = torch.nn.functional.mse_loss(mlp(torch.tensor(x).float()).squeeze(), torch.tensor(y).float()) # , delta=0.1)\n",
    "#             optimizer.zero_grad()\n",
    "#             loss.backward()\n",
    "#             optimizer.step()\n",
    "#             with torch.no_grad():\n",
    "#                 mlp.eval()\n",
    "#                 valid_loss = torch.nn.functional.mse_loss(mlp(torch.tensor(x[-5:]).float()).squeeze(), torch.tensor(y[-5:]).float())\n",
    "#             if valid_loss + loss < best_valid_loss:\n",
    "#                 best_valid_loss = valid_loss\n",
    "#                 best_param = mlp.state_dict()\n",
    "#                 best_step = _\n",
    "#     mlp_params[dim] = best_param"
   ]
  },
  {
   "cell_type": "code",
   "execution_count": 9,
   "id": "51c8fabd-de54-4df1-9d00-5dd0e7b3d2b7",
   "metadata": {},
   "outputs": [
    {
     "name": "stdout",
     "output_type": "stream",
     "text": [
      "0.008618404835830503\n",
      "0.026849099638040164\n",
      "0.010382906399636497\n",
      "0.00267916500813666\n",
      "0.002400890789895286\n",
      "0.0019938940864530816\n"
     ]
    },
    {
     "data": {
      "image/png": "[encoded data removed]",
      "text/plain": [
       "<Figure size 1800x900 with 1 Axes>"
      ]
     },
     "metadata": {},
     "output_type": "display_data"
    }
   ],
   "source": [
    "# calculate the errors\n",
    "# fig\n",
    "x = np.array([list(map(float, ratio.split('-'))) for ratio in eval_ratios]) # ratios])\n",
    "y = np.array([\n",
    "    sum(OBSERVED_LOSSES[MODEL_SZIE][ratio][domain][STEP] * valid_weight[domain] for domain in DOMAINS_2_SUBDOMAINS) \n",
    "    for ratio in eval_ratios# ratios\n",
    "])\n",
    "errors = []\n",
    "\n",
    "linear_domain_prediction = sum(mixture_law(x, linear_domain_params[domain]).numpy() * valid_weight[domain] for domain in DOMAINS_2_SUBDOMAINS)\n",
    "errors.append(np.abs(y - linear_domain_prediction))\n",
    "mlp_params = torch.load(\"data/5Mix/mix5mlp.pt\")\n",
    "for dim in [1,3,5,10,30]:\n",
    "    state_dict = mlp_params[dim]\n",
    "    mlp = MixtureMLP(dim=dim)\n",
    "    mlp.load_state_dict(state_dict)\n",
    "    mlp.eval()\n",
    "    with torch.no_grad():\n",
    "        mlp_prediction = mlp(torch.tensor(x)).squeeze().numpy()\n",
    "    errors.append(np.abs(y - mlp_prediction))\n",
    "fig = plt.figure(figsize=(6, 3), dpi=300)\n",
    "bp = plt.boxplot(\n",
    "    errors, labels=[\"Explicit\", \"Implicit \\n(K=1)\", \"Implicit \\n(K=3)\", \"Implicit \\n(K=5)\", \"Implicit \\n(K=10)\", \"Implicit \\n(K=30)\"],\n",
    "    patch_artist=True\n",
    ")\n",
    "colors = ['#FFEADD'] + [\"#CDF5FD\"]*5 # '#F3F8FF', '#F3F8FF', '#F3F8FF', '#F3F8FF', '#F3F8FF', '#F3F8FF']  # Blue, Green, Red\n",
    "for patch, color in zip(bp['boxes'], colors):\n",
    "    patch.set_facecolor(color)\n",
    "for median in bp['medians']:\n",
    "    median.set_color('#FF6868')  # Set the color of the median lines to red\n",
    "\n",
    "plt.ylim(0, 0.06)\n",
    "# plt.cla()\n",
    "# plt.violinplot(errors)\n",
    "# plt.xticks(range(len(errors)), [\"ALL Lin\", \"ALL Dom\", \"1\", \"3\", \"5\", \"10\", \"20\", \"30\"])\n",
    "# plt.savefig(\"mixture_violon_20.png\")\n",
    "# plt.ylim(0, 0.05)\n",
    "plt.axvspan(0.6, 1.4, color='gray', alpha=0.1, linewidth=0)  # For 'Separate'\n",
    "plt.axvspan(3.6, 4.4, color='gray', alpha=0.1, linewidth=0) \n",
    "for error in errors:\n",
    "    print(np.mean(error))\n",
    "plt.ylabel(\"Absolute Errors\")\n",
    "plt.tight_layout()\n",
    "plt.savefig(\"savefigs/5mix_end2end.png\")\n"
   ]
  },
  {
   "cell_type": "code",
   "execution_count": 10,
   "id": "fb6476a7-a7ca-4770-b8fa-c01328ba5e87",
   "metadata": {},
   "outputs": [
    {
     "data": {
      "text/plain": [
       "6"
      ]
     },
     "execution_count": 10,
     "metadata": {},
     "output_type": "execute_result"
    }
   ],
   "source": [
    "len(eval_ratios)"
   ]
  },
  {
   "cell_type": "code",
   "execution_count": 5,
   "id": "119888f6-9889-47fe-8102-5d6efccc026c",
   "metadata": {},
   "outputs": [],
   "source": [
    "mlp_params2 = mlp_params"
   ]
  },
  {
   "cell_type": "code",
   "execution_count": null,
   "id": "d20f27a9-71f2-4070-befa-b94d859c5bf9",
   "metadata": {},
   "outputs": [],
   "source": []
  }
 ],
 "metadata": {
  "kernelspec": {
   "display_name": "Python 3 (ipykernel)",
   "language": "python",
   "name": "python3"
  },
  "language_info": {
   "codemirror_mode": {
    "name": "ipython",
    "version": 3
   },
   "file_extension": ".py",
   "mimetype": "text/x-python",
   "name": "python",
   "nbconvert_exporter": "python",
   "pygments_lexer": "ipython3",
   "version": "3.11.0"
  }
 },
 "nbformat": 4,
 "nbformat_minor": 5
}
